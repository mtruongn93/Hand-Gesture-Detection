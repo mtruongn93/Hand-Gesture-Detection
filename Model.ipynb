{
 "cells": [
  {
   "cell_type": "markdown",
   "metadata": {},
   "source": [
    "# Hand Gesture Detection using Machine Learning"
   ]
  },
  {
   "cell_type": "markdown",
   "metadata": {},
   "source": [
    "There are multiple way to detect hand gesture without using Machine Learning algorithm such as using color histograms and HOG classifiers, edge detection or background substraction. However, these methods tend to not very robust as it can be affected by the unusual background or changes in lighting conditions.\n",
    "\n",
    "With a large datasets with different hand gestrues, we can train the model using neural networks. This will somewhat better than the methods mentioned above, even though it will take sometimes for us to train the model."
   ]
  },
  {
   "cell_type": "markdown",
   "metadata": {},
   "source": [
    "## Data Preprocessing"
   ]
  },
  {
   "cell_type": "markdown",
   "metadata": {},
   "source": [
    "I found a dataset of hand gestures on [Kaggle](https://www.kaggle.com/gti-upm/leapgestrecog). This dataset contains 10 different gestures from 10 different people. For each gestures of each person, there will be 200 images of them."
   ]
  },
  {
   "cell_type": "markdown",
   "metadata": {},
   "source": [
    "The database structure will look like this:\n",
    "```\n",
    ".\n",
    "+-- 00\n",
    "|   +-- 01_palm\n",
    "|       +-- frame_00_01_0001.png\n",
    "|       +-- frame_00_01_0002.png\n",
    "|       +-- ....\n",
    "|   +-- 02_l\n",
    "|       +-- frame_00_02_0001.png\n",
    "|       +-- frame_00_02_0002.png\n",
    "|       +-- ....\n",
    "....\n",
    "|   +-- 09_c\n",
    "|       +-- frame_00_09_0001.png\n",
    "|       +-- frame_00_09_0002.png\n",
    "|       +-- ....\n",
    "|   +-- 010_down\n",
    "|       +-- frame_00_10_0001.png\n",
    "|       +-- frame_00_10_0002.png\n",
    "|       +-- ....\n",
    "+-- 01\n",
    "...\n",
    "+-- 10\n",
    "```"
   ]
  },
  {
   "cell_type": "markdown",
   "metadata": {},
   "source": [
    "Let's start by importing all the package that we need"
   ]
  },
  {
   "cell_type": "code",
   "execution_count": 31,
   "metadata": {},
   "outputs": [],
   "source": [
    "# Import libraries and modules\n",
    "import numpy as np\n",
    "import matplotlib.pyplot as plt\n",
    "import matplotlib.style as style\n",
    "import pandas as pd\n",
    "\n",
    "from PIL import Image\n",
    "import numpy as np\n",
    "import glob\n",
    "import os\n",
    "\n",
    "# For reproducibility\n",
    "np.random.seed(42)\n",
    "\n",
    "from tensorflow.keras.models import Sequential\n",
    "from tensorflow.keras.layers import Dense, Dropout, Activation, Flatten, Input\n",
    "from tensorflow.keras.layers import Conv2D, MaxPooling2D\n",
    " \n",
    "%matplotlib inline\n",
    "style.use('seaborn-whitegrid')"
   ]
  },
  {
   "cell_type": "markdown",
   "metadata": {},
   "source": [
    "We are going to get into each person folder, and process all the images for each gestures.\n",
    "\n",
    "Sadly, my computer is too weak to process everything. I am going to train only on 5 gestures. For each person, I am going to get only 100 images for each gesture.\n",
    "\n",
    "For each image, I am going to resize them to 200 x 200, and make it becomes grey. In my opinion, changing the color of the image to grey will not affect our overal performance. In addition, having grey color images will help us to train our model much faster.\n",
    "\n",
    "We also need to convert the image to an array, as our neural network only takes in numbers, not images. Make sure that type of our array to be **float32** so that the neural network can work smoothly. Moreover, we also need to make sure that the number in an array is within (0,1). The reason for all of this can be found [here](https://datascience.stackexchange.com/questions/13636/neural-network-data-type-conversion-float-from-int) and [here](https://stackoverflow.com/questions/4674623/why-do-we-have-to-normalize-the-input-for-an-artificial-neural-network)."
   ]
  },
  {
   "cell_type": "code",
   "execution_count": 2,
   "metadata": {},
   "outputs": [],
   "source": [
    "# Get the name of all outer folder such as 00, 01, ..., 10\n",
    "folder_name1 = [name for name in os.listdir(\".\") \n",
    "                if os.path.isdir(name) \n",
    "                and name.startswith(\"0\")]\n",
    "\n",
    "# Get the name of all inner folder such as 01_palm, 02_l, ..., 10_down\n",
    "folder_name2 = os.listdir(\"./00\")"
   ]
  },
  {
   "cell_type": "code",
   "execution_count": 3,
   "metadata": {},
   "outputs": [],
   "source": [
    "X = []\n",
    "y = []\n",
    "\n",
    "for folder1 in folder_name1:\n",
    "    # only get 5 gestures :(\n",
    "    for folder2 in folder_name2[0:5]:\n",
    "        files = glob.glob(folder1 + \"/\" + folder2 + \"/\" + \"*.png\")\n",
    "        # only get 100 images\n",
    "        for file in files[0:100]:\n",
    "            # converting image to grey scale\n",
    "            img = Image.open(file).convert('L')\n",
    "            # resize image to 200 * 200\n",
    "            img = img.resize((200, 200))\n",
    "            # converting image to an array\n",
    "            img = np.asarray(img)\n",
    "            # make sure that the array is float\n",
    "            img = np.array(img, dtype = \"float32\")\n",
    "            # since all the number is within (0,255), \n",
    "            # dividing this to 255 will make the numbers\n",
    "            # within (0,1)\n",
    "            img /= 255\n",
    "            # you do not need to do this step, I just want\n",
    "            # to reverse the color (eg: black to white)\n",
    "            img = 1 -img\n",
    "            \n",
    "            X.append(img)\n",
    "            \n",
    "            label = folder2.split(\"_\",1)[1]\n",
    "            y.append(label)\n",
    "    \n",
    "X = np.array(X)\n",
    "y = np.array(y)"
   ]
  },
  {
   "cell_type": "code",
   "execution_count": 4,
   "metadata": {},
   "outputs": [
    {
     "data": {
      "text/plain": [
       "{'fist', 'fist_moved', 'l', 'palm', 'thumb'}"
      ]
     },
     "execution_count": 4,
     "metadata": {},
     "output_type": "execute_result"
    }
   ],
   "source": [
    "# list of gesture that we are going to predict\n",
    "set(y)"
   ]
  },
  {
   "cell_type": "code",
   "execution_count": 5,
   "metadata": {},
   "outputs": [
    {
     "data": {
      "text/plain": [
       "(200, 200)"
      ]
     },
     "execution_count": 5,
     "metadata": {},
     "output_type": "execute_result"
    }
   ],
   "source": [
    "# the shape of each of our images\n",
    "X[0].shape"
   ]
  },
  {
   "cell_type": "code",
   "execution_count": 6,
   "metadata": {},
   "outputs": [],
   "source": [
    "from sklearn.model_selection import train_test_split\n",
    "X_train, X_test, y_train, y_test = train_test_split(X,y,random_state = 42)"
   ]
  },
  {
   "cell_type": "code",
   "execution_count": 7,
   "metadata": {},
   "outputs": [
    {
     "data": {
      "text/plain": [
       "(3750, 200, 200)"
      ]
     },
     "execution_count": 7,
     "metadata": {},
     "output_type": "execute_result"
    }
   ],
   "source": [
    "# Check shape of full training data.\n",
    "X_train.shape"
   ]
  },
  {
   "cell_type": "markdown",
   "metadata": {},
   "source": [
    "We need to reshape each image to be 200 x 200 x 1. This allows our neural network to know that there's only one value (how dark the pixel is) instead of multiple values per pixel. For example, a color image stored in RGB (red/green/blue) might have shape 200 x 200 x 3, where one value is corresponds to how red the pixel is, one value corresponds to how blue the pixel is, and one value corresponds to how green the pixel is."
   ]
  },
  {
   "cell_type": "code",
   "execution_count": 8,
   "metadata": {},
   "outputs": [],
   "source": [
    "# Reshape each image to be 200 x 200 x 1.\n",
    "X_train = X_train.reshape(X_train.shape[0], 200, 200, 1)\n",
    "X_test = X_test.reshape(X_test.shape[0], 200, 200, 1)"
   ]
  },
  {
   "cell_type": "code",
   "execution_count": 9,
   "metadata": {},
   "outputs": [
    {
     "data": {
      "text/plain": [
       "(3750, 200, 200, 1)"
      ]
     },
     "execution_count": 9,
     "metadata": {},
     "output_type": "execute_result"
    }
   ],
   "source": [
    "X_train.shape"
   ]
  },
  {
   "cell_type": "markdown",
   "metadata": {},
   "source": [
    "We also need to LabelBinarizer our target. This step is very important in classifying. Imagine there is a case where we need to predict class 1 or class 2. Without LabelBinarizer, the neural will understand 1 and 2 as a numerical instead of categorical values"
   ]
  },
  {
   "cell_type": "code",
   "execution_count": 10,
   "metadata": {},
   "outputs": [],
   "source": [
    "from sklearn.preprocessing import LabelBinarizer\n",
    "\n",
    "lb = LabelBinarizer()\n",
    "y_train = lb.fit_transform(y_train)\n",
    "y_test = lb.transform(y_test)"
   ]
  },
  {
   "cell_type": "markdown",
   "metadata": {},
   "source": [
    "## Model"
   ]
  },
  {
   "cell_type": "markdown",
   "metadata": {},
   "source": [
    "We are going to use **Convolutional Neural Networks (CNNs)** for this model. CNNs are complex feed forward neural networks that are perfect for image processing as it can condense the image to a smaller size so that the neural networks can run on.\n",
    "\n",
    "CNNs generally consist of:\n",
    "- one or more convolutional layers\n",
    "- one or more pooling layers, and\n",
    "- one or more fully connected layers\n",
    "\n",
    "Let's talk briefly about convolutional layers. This is a layers used to detect \"things\" in images. In those layers, multiple filters are applied. Each filter will create its own layers for the image (eg: 32x32x1 can become 28x28x6). Usually early convolutional layers will detect the edge, later layers detect structures, and the final layers detect the entire objects.\n",
    "\n",
    "Pooling layers is just another block of CNN. Its main purpose is to reduce the spatial size of the image, which reduces the amount of parameters for the network to train on. Generally, max pooling is used.\n",
    "\n",
    "Here is the whole network topology for CNNs"
   ]
  },
  {
   "cell_type": "markdown",
   "metadata": {},
   "source": [
    "Let's start building the model. You can play around with the filters size, kernel size or pooling size. We use ReLU as the activation function because it  can speeding up the training process. The computational step of ReLU is simple as it is only **max(0,input number)**. **Softmax** is also used as we are classifying muliple classes. If you only classify 2 classes, you can use **sigmoid** instead."
   ]
  },
  {
   "cell_type": "code",
   "execution_count": 11,
   "metadata": {},
   "outputs": [],
   "source": [
    "# Instantiate a CNN\n",
    "cnn_model = Sequential()"
   ]
  },
  {
   "cell_type": "code",
   "execution_count": 12,
   "metadata": {},
   "outputs": [
    {
     "name": "stdout",
     "output_type": "stream",
     "text": [
      "Model: \"sequential\"\n",
      "_________________________________________________________________\n",
      "Layer (type)                 Output Shape              Param #   \n",
      "=================================================================\n",
      "conv2d (Conv2D)              (None, 198, 198, 6)       60        \n",
      "_________________________________________________________________\n",
      "max_pooling2d (MaxPooling2D) (None, 66, 66, 6)         0         \n",
      "_________________________________________________________________\n",
      "conv2d_1 (Conv2D)            (None, 64, 64, 16)        880       \n",
      "_________________________________________________________________\n",
      "max_pooling2d_1 (MaxPooling2 (None, 21, 21, 16)        0         \n",
      "_________________________________________________________________\n",
      "conv2d_2 (Conv2D)            (None, 19, 19, 26)        3770      \n",
      "_________________________________________________________________\n",
      "max_pooling2d_2 (MaxPooling2 (None, 6, 6, 26)          0         \n",
      "_________________________________________________________________\n",
      "flatten (Flatten)            (None, 936)               0         \n",
      "_________________________________________________________________\n",
      "dense (Dense)                (None, 128)               119936    \n",
      "_________________________________________________________________\n",
      "dense_1 (Dense)              (None, 64)                8256      \n",
      "_________________________________________________________________\n",
      "dense_2 (Dense)              (None, 5)                 325       \n",
      "=================================================================\n",
      "Total params: 133,227\n",
      "Trainable params: 133,227\n",
      "Non-trainable params: 0\n",
      "_________________________________________________________________\n"
     ]
    }
   ],
   "source": [
    "cnn_model.add(Input(shape = (200,200,1)))\n",
    "\n",
    "# add a convolutional layer\n",
    "cnn_model.add(Conv2D(filters = 6,\n",
    "                     kernel_size = 3,\n",
    "                     activation = \"relu\"))\n",
    "\n",
    "# add a pooling layer\n",
    "cnn_model.add(MaxPooling2D(pool_size = (3,3)))\n",
    "\n",
    "# add a convolutional layer\n",
    "cnn_model.add(Conv2D(kernel_size = 3,\n",
    "                     filters = 16,\n",
    "                     activation = \"relu\"))\n",
    "\n",
    "# add a pooling layer\n",
    "cnn_model.add(MaxPooling2D(pool_size = (3,3)))\n",
    "\n",
    "# add a convolutional layer\n",
    "cnn_model.add(Conv2D(kernel_size = 3,\n",
    "                     filters = 26,\n",
    "                     activation = \"relu\"))\n",
    "\n",
    "# add a pooling layer\n",
    "cnn_model.add(MaxPooling2D(pool_size = (3,3)))\n",
    "\n",
    "# flatten the 3D array to 1D array\n",
    "cnn_model.add(Flatten())\n",
    "\n",
    "# add in first perceptrons\n",
    "cnn_model.add(Dense(128, activation = \"relu\"))\n",
    "\n",
    "# add in second perceptrons\n",
    "cnn_model.add(Dense(64, activation = \"relu\"))\n",
    "\n",
    "# output\n",
    "cnn_model.add(Dense(len(lb.classes_), activation = \"softmax\"))\n",
    "\n",
    "cnn_model.summary()"
   ]
  },
  {
   "cell_type": "code",
   "execution_count": 13,
   "metadata": {},
   "outputs": [],
   "source": [
    "# Compile model\n",
    "cnn_model.compile(loss='categorical_crossentropy',\n",
    "                  optimizer='adam',\n",
    "                  metrics=['accuracy'])"
   ]
  },
  {
   "cell_type": "code",
   "execution_count": 14,
   "metadata": {},
   "outputs": [
    {
     "name": "stderr",
     "output_type": "stream",
     "text": [
      "WARNING: Logging before flag parsing goes to stderr.\n",
      "W0802 10:05:49.218547 11540 deprecation.py:323] From C:\\Users\\Minh\\Anaconda3\\lib\\site-packages\\tensorflow\\python\\ops\\math_grad.py:1250: add_dispatch_support.<locals>.wrapper (from tensorflow.python.ops.array_ops) is deprecated and will be removed in a future version.\n",
      "Instructions for updating:\n",
      "Use tf.where in 2.0, which has the same broadcast rule as np.where\n"
     ]
    },
    {
     "name": "stdout",
     "output_type": "stream",
     "text": [
      "Train on 3750 samples, validate on 1250 samples\n",
      "Epoch 1/5\n",
      "3750/3750 [==============================] - 27s 7ms/sample - loss: 1.5284 - accuracy: 0.5336 - val_loss: 1.3553 - val_accuracy: 0.6784\n",
      "Epoch 2/5\n",
      "3750/3750 [==============================] - 24s 6ms/sample - loss: 1.0569 - accuracy: 0.7360 - val_loss: 0.6921 - val_accuracy: 0.8088\n",
      "Epoch 3/5\n",
      "3750/3750 [==============================] - 23s 6ms/sample - loss: 0.5634 - accuracy: 0.8019 - val_loss: 0.3798 - val_accuracy: 0.8728\n",
      "Epoch 4/5\n",
      "3750/3750 [==============================] - 25s 7ms/sample - loss: 0.3088 - accuracy: 0.8875 - val_loss: 0.2085 - val_accuracy: 0.9352\n",
      "Epoch 5/5\n",
      "3750/3750 [==============================] - 25s 7ms/sample - loss: 0.2041 - accuracy: 0.9288 - val_loss: 0.1406 - val_accuracy: 0.9576\n"
     ]
    }
   ],
   "source": [
    "# Fit model on training data\n",
    "history = cnn_model.fit(X_train,\n",
    "                        y_train,\n",
    "                        batch_size=250,\n",
    "                        validation_data=(X_test, y_test),\n",
    "                        epochs=5,\n",
    "                        verbose=1)"
   ]
  },
  {
   "cell_type": "code",
   "execution_count": 15,
   "metadata": {},
   "outputs": [
    {
     "data": {
      "image/png": "[encoded data removed]",
      "text/plain": [
       "<Figure size 864x576 with 1 Axes>"
      ]
     },
     "metadata": {
      "needs_background": "light"
     },
     "output_type": "display_data"
    }
   ],
   "source": [
    "# Check out our train loss and test loss over epochs.\n",
    "train_loss = history.history['loss']\n",
    "test_loss = history.history['val_loss']\n",
    "\n",
    "# Set figure size.\n",
    "plt.figure(figsize=(12, 8))\n",
    "\n",
    "# Generate line plot of training, testing loss over epochs.\n",
    "plt.plot(train_loss, label='Training Loss', color='#185fad')\n",
    "plt.plot(test_loss, label='Testing Loss', color='orange')\n",
    "\n",
    "# Set title\n",
    "plt.title('Training and Testing Loss by Epoch', fontsize = 25)\n",
    "plt.xlabel('Epoch', fontsize = 18)\n",
    "plt.ylabel('Categorical Crossentropy', fontsize = 18)\n",
    "plt.xticks([0, 1, 2, 3, 4])\n",
    "\n",
    "plt.legend(fontsize = 18);"
   ]
  },
  {
   "cell_type": "markdown",
   "metadata": {},
   "source": [
    "As we can see, both the testing and training loss is getting lower and lower. We can try to run the fitting process 1 more time to get a better result.\n",
    "\n",
    "Let's check how accurate our prediction is:"
   ]
  },
  {
   "cell_type": "code",
   "execution_count": 28,
   "metadata": {},
   "outputs": [
    {
     "data": {
      "text/plain": [
       "'palm'"
      ]
     },
     "execution_count": 28,
     "metadata": {},
     "output_type": "execute_result"
    }
   ],
   "source": [
    "np.set_printoptions(suppress=True)\n",
    "labels = {x : y for x,y in enumerate(lb.classes_)}\n",
    "predict_0 = np.argmax(cnn_model.predict(np.array([X_test[0]])))\n",
    "labels[predict_0]"
   ]
  },
  {
   "cell_type": "code",
   "execution_count": 20,
   "metadata": {},
   "outputs": [
    {
     "data": {
      "text/plain": [
       "<matplotlib.image.AxesImage at 0x2554c91ef28>"
      ]
     },
     "execution_count": 20,
     "metadata": {},
     "output_type": "execute_result"
    },
    {
     "data": {
      "image/png": "[encoded data removed]",
      "text/plain": [
       "<Figure size 432x288 with 1 Axes>"
      ]
     },
     "metadata": {
      "needs_background": "light"
     },
     "output_type": "display_data"
    }
   ],
   "source": [
    "plt.imshow(X_test[0].reshape(200, 200))"
   ]
  },
  {
   "cell_type": "markdown",
   "metadata": {},
   "source": [
    "Let's look at the confusion matrix."
   ]
  },
  {
   "cell_type": "code",
   "execution_count": 23,
   "metadata": {},
   "outputs": [],
   "source": [
    "y_pred = [np.argmax(i) for i in cnn_model.predict(X_test)]"
   ]
  },
  {
   "cell_type": "code",
   "execution_count": 24,
   "metadata": {},
   "outputs": [],
   "source": [
    "y_pred = [labels[i] for i in y_pred]"
   ]
  },
  {
   "cell_type": "code",
   "execution_count": 32,
   "metadata": {},
   "outputs": [
    {
     "data": {
      "text/html": [
       "<div>\n",
       "<style scoped>\n",
       "    .dataframe tbody tr th:only-of-type {\n",
       "        vertical-align: middle;\n",
       "    }\n",
       "\n",
       "    .dataframe tbody tr th {\n",
       "        vertical-align: top;\n",
       "    }\n",
       "\n",
       "    .dataframe thead th {\n",
       "        text-align: right;\n",
       "    }\n",
       "</style>\n",
       "<table border=\"1\" class=\"dataframe\">\n",
       "  <thead>\n",
       "    <tr style=\"text-align: right;\">\n",
       "      <th></th>\n",
       "      <th>fist</th>\n",
       "      <th>fist_moved</th>\n",
       "      <th>l</th>\n",
       "      <th>palm</th>\n",
       "      <th>thumb</th>\n",
       "    </tr>\n",
       "  </thead>\n",
       "  <tbody>\n",
       "    <tr>\n",
       "      <th>fist</th>\n",
       "      <td>237</td>\n",
       "      <td>7</td>\n",
       "      <td>0</td>\n",
       "      <td>0</td>\n",
       "      <td>14</td>\n",
       "    </tr>\n",
       "    <tr>\n",
       "      <th>fist_moved</th>\n",
       "      <td>21</td>\n",
       "      <td>210</td>\n",
       "      <td>0</td>\n",
       "      <td>1</td>\n",
       "      <td>0</td>\n",
       "    </tr>\n",
       "    <tr>\n",
       "      <th>l</th>\n",
       "      <td>1</td>\n",
       "      <td>2</td>\n",
       "      <td>270</td>\n",
       "      <td>1</td>\n",
       "      <td>0</td>\n",
       "    </tr>\n",
       "    <tr>\n",
       "      <th>palm</th>\n",
       "      <td>0</td>\n",
       "      <td>2</td>\n",
       "      <td>2</td>\n",
       "      <td>242</td>\n",
       "      <td>0</td>\n",
       "    </tr>\n",
       "    <tr>\n",
       "      <th>thumb</th>\n",
       "      <td>2</td>\n",
       "      <td>0</td>\n",
       "      <td>0</td>\n",
       "      <td>0</td>\n",
       "      <td>238</td>\n",
       "    </tr>\n",
       "  </tbody>\n",
       "</table>\n",
       "</div>"
      ],
      "text/plain": [
       "            fist  fist_moved    l  palm  thumb\n",
       "fist         237           7    0     0     14\n",
       "fist_moved    21         210    0     1      0\n",
       "l              1           2  270     1      0\n",
       "palm           0           2    2   242      0\n",
       "thumb          2           0    0     0    238"
      ]
     },
     "execution_count": 32,
     "metadata": {},
     "output_type": "execute_result"
    }
   ],
   "source": [
    "from sklearn.metrics import confusion_matrix\n",
    "con_matrix = confusion_matrix(lb.inverse_transform(y_test), y_pred)\n",
    "pd.DataFrame(con_matrix, columns = lb.classes_, index = lb.classes_)"
   ]
  },
  {
   "cell_type": "markdown",
   "metadata": {},
   "source": [
    "It is not a surprised when we have some bad predictions between fist and fist_moved. There are also some confusion on the fist and the thumb"
   ]
  },
  {
   "cell_type": "markdown",
   "metadata": {},
   "source": [
    "## Capture and predict the gesture through camera"
   ]
  },
  {
   "cell_type": "markdown",
   "metadata": {},
   "source": [
    "The code below allows you to predict your hand gesture through your own camera. However, unfortunately, this datasets is not suitable for predicting gesture in regular lighting since most of them are captured in the dark. I have tried to adjust the lighting, flip or rotate; but it still does not work. You can try to create you dataset and try."
   ]
  },
  {
   "cell_type": "code",
   "execution_count": null,
   "metadata": {},
   "outputs": [],
   "source": [
    "import cv2"
   ]
  },
  {
   "cell_type": "code",
   "execution_count": null,
   "metadata": {},
   "outputs": [],
   "source": [
    "cap = cv2.VideoCapture(0)\n",
    "\n",
    "while (True):\n",
    "    ret, frame = cap.read()\n",
    "    cv2.imshow(\"frame\",frame)\n",
    " \n",
    "    gray = cv2.cvtColor(frame, cv2.COLOR_BGR2GRAY)\n",
    "    \n",
    "    # Capture the image by pressing q\n",
    "    if cv2.waitKey(1) & 0xFF == ord(\"q\"):\n",
    "        \n",
    "        # Show the captured image\n",
    "        cv2.imshow(\"frame2\",gray)\n",
    "        \n",
    "        # Resize the capture image by transforming it\n",
    "        # the same way with our dataset\n",
    "        frame_new = cv2.resize(gray, (200, 200))\n",
    "        frame_new = np.array(frame_new, dtype = \"float32\")\n",
    "        frame_new /= 255\n",
    "        frame_new = 1 - frame_new\n",
    "        frame_new = frame_new.reshape(1, 200, 200, 1)\n",
    "        \n",
    "        # Predict the captured image\n",
    "        result = np.argmax(cnn_model.predict(frame_new))\n",
    "        print(labels[result])\n",
    "\n",
    "\n",
    "    # close the video by pressing escape\n",
    "    key = cv2.waitKey(1)\n",
    "    if key == 27:\n",
    "        break\n",
    "        \n",
    "cap.release()\n",
    "cv2.destroyAllWindows()"
   ]
  },
  {
   "cell_type": "markdown",
   "metadata": {},
   "source": [
    "## Conclusion\n",
    "Luckily we do not run into any overfit problems. If you have any overfit problems (loss of training dataset decreases while that of testing set increases), you can apply some regularization such as **L1/L2 regularization, dropout or early stopping**\n",
    "\n",
    "It is a bit unfortunate for me to be unable to run the whole datasets and to test this on my own camera. I will build my own dataset with proper lighting in the future, and run this on the cloud server such as AWS."
   ]
  }
 ],
 "metadata": {
  "kernelspec": {
   "display_name": "Python 3",
   "language": "python",
   "name": "python3"
  },
  "language_info": {
   "codemirror_mode": {
    "name": "ipython",
    "version": 3
   },
   "file_extension": ".py",
   "mimetype": "text/x-python",
   "name": "python",
   "nbconvert_exporter": "python",
   "pygments_lexer": "ipython3",
   "version": "3.7.3"
  }
 },
 "nbformat": 4,
 "nbformat_minor": 2
}
